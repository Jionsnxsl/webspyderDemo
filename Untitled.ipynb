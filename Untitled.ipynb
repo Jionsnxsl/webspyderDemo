{
 "cells": [
  {
   "cell_type": "code",
   "execution_count": null,
   "metadata": {
    "collapsed": false
   },
   "outputs": [],
   "source": [
    "import requests\n",
    "import re\n",
    "\n",
    "content = requests.get(\"https://book.douban.com/\").text\n",
    "\n",
    "pattern = re.compile(\"<li.*?cover.*?href=\\\"(.*?)\\\".*?title=\\\"(\\w+)\\\".*?author\\\">(.*?)</div>.*?year\\\">(.*?)</span>.*?</li>\", re.S)\n",
    "print(pattern.findall(content))"
   ]
  }
 ],
 "metadata": {
  "kernelspec": {
   "display_name": "Python 3",
   "language": "python",
   "name": "python3"
  },
  "language_info": {
   "codemirror_mode": {
    "name": "ipython",
    "version": 3
   },
   "file_extension": ".py",
   "mimetype": "text/x-python",
   "name": "python",
   "nbconvert_exporter": "python",
   "pygments_lexer": "ipython3",
   "version": "3.6.0"
  }
 },
 "nbformat": 4,
 "nbformat_minor": 2
}
